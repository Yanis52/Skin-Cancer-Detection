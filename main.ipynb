{
  "cells": [
    {
      "cell_type": "markdown",
      "metadata": {
        "id": "view-in-github",
        "colab_type": "text"
      },
      "source": [
        "<a href=\"https://colab.research.google.com/github/Yanis52/Skin-Cancer-Detection/blob/main/main.ipynb\" target=\"_parent\"><img src=\"https://colab.research.google.com/assets/colab-badge.svg\" alt=\"Open In Colab\"/></a>"
      ]
    },
    {
      "cell_type": "code",
      "execution_count": null,
      "id": "de8c8d15",
      "metadata": {
        "id": "de8c8d15"
      },
      "outputs": [],
      "source": [
        "!pip install kagglehub\n"
      ]
    },
    {
      "cell_type": "code",
      "source": [
        "import tensorflow as tf\n",
        "from tensorflow.keras import layers, models\n",
        "from pathlib import Path\n",
        "from google.colab import drive\n",
        "import matplotlib.pyplot as plt"
      ],
      "metadata": {
        "id": "E3VZ1eHs0Vlr"
      },
      "id": "E3VZ1eHs0Vlr",
      "execution_count": 1,
      "outputs": []
    },
    {
      "cell_type": "code",
      "source": [
        "\n",
        "drive.mount('/content/drive')\n",
        "train_dir = Path(\"/content/drive/MyDrive/CBAM_project/augmented_data/Train\")\n",
        "test_dir = Path(\"/content/drive/MyDrive/CBAM_project/augmented_data/Test\")\n"
      ],
      "metadata": {
        "colab": {
          "base_uri": "https://localhost:8080/"
        },
        "id": "mKK9WLmWsJzf",
        "outputId": "b0847fbf-4375-4d67-d23f-8fe9fdf9235c"
      },
      "id": "mKK9WLmWsJzf",
      "execution_count": null,
      "outputs": [
        {
          "output_type": "stream",
          "name": "stdout",
          "text": [
            "Mounted at /content/drive\n"
          ]
        }
      ]
    },
    {
      "cell_type": "markdown",
      "source": [
        "**Définition du module CBAM**"
      ],
      "metadata": {
        "id": "xVxHEu6KzCUF"
      },
      "id": "xVxHEu6KzCUF"
    },
    {
      "cell_type": "code",
      "execution_count": null,
      "id": "4d37e6a1",
      "metadata": {
        "id": "4d37e6a1"
      },
      "outputs": [],
      "source": [
        "class CBAM(tf.keras.layers.Layer):\n",
        "    def __init__(self, channels, reduction_ratio=8, **kwargs):\n",
        "        super(CBAM, self).__init__(**kwargs)\n",
        "        self.channels = channels\n",
        "        self.reduction_ratio = reduction_ratio\n",
        "\n",
        "    def build(self, input_shape):\n",
        "        self.global_avg_pool = layers.GlobalAveragePooling2D()\n",
        "        self.fc1 = layers.Dense(self.channels // self.reduction_ratio, activation='relu')\n",
        "        self.fc2 = layers.Dense(self.channels, activation='sigmoid')\n",
        "        self.spatial_conv = layers.Conv2D(1, kernel_size=7, padding='same', activation='sigmoid')\n",
        "\n",
        "    def call(self, inputs):\n",
        "        avg_pool = self.global_avg_pool(inputs)\n",
        "        dense = self.fc1(avg_pool)\n",
        "        dense = self.fc2(dense)\n",
        "        channel_att = tf.reshape(dense, [-1, 1, 1, self.channels])\n",
        "        x = inputs * channel_att\n",
        "\n",
        "        avg = tf.reduce_mean(x, axis=-1, keepdims=True)\n",
        "        max_ = tf.reduce_max(x, axis=-1, keepdims=True)\n",
        "        concat = tf.concat([avg, max_], axis=-1)\n",
        "        spatial_att = self.spatial_conv(concat)\n",
        "        return x * spatial_att\n"
      ]
    },
    {
      "cell_type": "markdown",
      "source": [
        "Construction du **modèle**"
      ],
      "metadata": {
        "id": "y51dsi1Iy-hI"
      },
      "id": "y51dsi1Iy-hI"
    },
    {
      "cell_type": "code",
      "execution_count": null,
      "id": "9a547a34",
      "metadata": {
        "id": "9a547a34"
      },
      "outputs": [],
      "source": [
        "def build_cbam_model(input_shape=(128, 128, 3), num_classes=9):\n",
        "    inputs = tf.keras.Input(shape=input_shape)\n",
        "    x = layers.Rescaling(1./255)(inputs)\n",
        "\n",
        "    for filters in [64, 128, 256, 512]:\n",
        "        x = layers.Conv2D(filters, 3, padding=\"same\", use_bias=False)(x)\n",
        "        x = layers.BatchNormalization()(x)\n",
        "        x = layers.LeakyReLU()(x)\n",
        "        x = CBAM(filters)(x)\n",
        "        x = layers.MaxPooling2D()(x)\n",
        "        x = layers.Dropout(0.25)(x)\n",
        "\n",
        "    x = layers.GlobalAveragePooling2D()(x)\n",
        "    x = layers.Dense(512, activation='leaky_relu')(x)\n",
        "    x = layers.Dropout(0.3)(x)\n",
        "    outputs = layers.Dense(num_classes, activation='softmax')(x)\n",
        "\n",
        "    return tf.keras.Model(inputs, outputs)\n"
      ]
    },
    {
      "cell_type": "markdown",
      "source": [
        "Chargement du dataset depuis les images augmentées"
      ],
      "metadata": {
        "id": "IHqtepETy6SY"
      },
      "id": "IHqtepETy6SY"
    },
    {
      "cell_type": "code",
      "execution_count": null,
      "id": "efac1de6",
      "metadata": {
        "id": "efac1de6"
      },
      "outputs": [],
      "source": [
        "img_height = 128\n",
        "img_width = 128\n",
        "batch_size = 32\n",
        "num_classes = 9\n",
        "\n",
        "train_ds = tf.keras.preprocessing.image_dataset_from_directory(\n",
        "    train_dir,\n",
        "    seed=123,\n",
        "    image_size=(img_height, img_width),\n",
        "    batch_size=batch_size\n",
        ")\n",
        "\n",
        "val_ds = tf.keras.preprocessing.image_dataset_from_directory(\n",
        "    test_dir,\n",
        "    seed=123,\n",
        "    image_size=(img_height, img_width),\n",
        "    batch_size=batch_size\n",
        ")\n"
      ]
    },
    {
      "cell_type": "markdown",
      "source": [
        "compilation"
      ],
      "metadata": {
        "id": "3rsAWvcBzOC7"
      },
      "id": "3rsAWvcBzOC7"
    },
    {
      "cell_type": "code",
      "execution_count": null,
      "id": "fde0e364",
      "metadata": {
        "id": "fde0e364"
      },
      "outputs": [],
      "source": [
        "model = build_cbam_model(input_shape=(img_height, img_width, 3), num_classes=num_classes)\n",
        "model.compile(optimizer='adam', loss='sparse_categorical_crossentropy', metrics=['accuracy'])\n",
        "model.summary()\n"
      ]
    },
    {
      "cell_type": "markdown",
      "source": [
        "callbacks"
      ],
      "metadata": {
        "id": "jdJqppnKz6rd"
      },
      "id": "jdJqppnKz6rd"
    },
    {
      "cell_type": "code",
      "execution_count": null,
      "id": "176ecd02",
      "metadata": {
        "id": "176ecd02"
      },
      "outputs": [],
      "source": [
        "callbacks = [\n",
        "    tf.keras.callbacks.EarlyStopping(monitor='val_loss', patience=10, restore_best_weights=True),\n",
        "    tf.keras.callbacks.ModelCheckpoint(\"model.keras\", save_best_only=True),\n",
        "    tf.keras.callbacks.ReduceLROnPlateau(monitor='val_loss', factor=0.5, patience=5)\n",
        "]\n"
      ]
    },
    {
      "cell_type": "code",
      "source": [
        "history = model.fit(\n",
        "    train_ds,\n",
        "    validation_data=val_ds,\n",
        "    epochs=50,\n",
        "    callbacks=callbacks\n",
        ")\n"
      ],
      "metadata": {
        "id": "IYs19loP0D9q"
      },
      "id": "IYs19loP0D9q",
      "execution_count": null,
      "outputs": []
    },
    {
      "cell_type": "code",
      "execution_count": null,
      "id": "30bcff44",
      "metadata": {
        "id": "30bcff44"
      },
      "outputs": [],
      "source": []
    }
  ],
  "metadata": {
    "kernelspec": {
      "display_name": "Python 3",
      "name": "python3"
    },
    "language_info": {
      "codemirror_mode": {
        "name": "ipython",
        "version": 3
      },
      "file_extension": ".py",
      "mimetype": "text/x-python",
      "name": "python",
      "nbconvert_exporter": "python",
      "pygments_lexer": "ipython3",
      "version": "3.10.0"
    },
    "colab": {
      "provenance": [],
      "include_colab_link": true
    }
  },
  "nbformat": 4,
  "nbformat_minor": 5
}