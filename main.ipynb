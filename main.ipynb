{
  "cells": [
    {
      "cell_type": "markdown",
      "metadata": {
        "id": "view-in-github",
        "colab_type": "text"
      },
      "source": [
        "<a href=\"https://colab.research.google.com/github/Yanis52/Skin-Cancer-Detection/blob/main/main.ipynb\" target=\"_parent\"><img src=\"https://colab.research.google.com/assets/colab-badge.svg\" alt=\"Open In Colab\"/></a>"
      ]
    },
    {
      "cell_type": "code",
      "execution_count": 1,
      "id": "de8c8d15",
      "metadata": {
        "id": "de8c8d15",
        "outputId": "d31b05fc-1b9e-4caa-a9e8-6b676318ac1f",
        "colab": {
          "base_uri": "https://localhost:8080/"
        }
      },
      "outputs": [
        {
          "output_type": "stream",
          "name": "stdout",
          "text": [
            "Requirement already satisfied: kagglehub in /usr/local/lib/python3.11/dist-packages (0.3.12)\n",
            "Requirement already satisfied: packaging in /usr/local/lib/python3.11/dist-packages (from kagglehub) (25.0)\n",
            "Requirement already satisfied: pyyaml in /usr/local/lib/python3.11/dist-packages (from kagglehub) (6.0.2)\n",
            "Requirement already satisfied: requests in /usr/local/lib/python3.11/dist-packages (from kagglehub) (2.32.3)\n",
            "Requirement already satisfied: tqdm in /usr/local/lib/python3.11/dist-packages (from kagglehub) (4.67.1)\n",
            "Requirement already satisfied: charset-normalizer<4,>=2 in /usr/local/lib/python3.11/dist-packages (from requests->kagglehub) (3.4.2)\n",
            "Requirement already satisfied: idna<4,>=2.5 in /usr/local/lib/python3.11/dist-packages (from requests->kagglehub) (3.10)\n",
            "Requirement already satisfied: urllib3<3,>=1.21.1 in /usr/local/lib/python3.11/dist-packages (from requests->kagglehub) (2.5.0)\n",
            "Requirement already satisfied: certifi>=2017.4.17 in /usr/local/lib/python3.11/dist-packages (from requests->kagglehub) (2025.7.14)\n"
          ]
        }
      ],
      "source": [
        "!pip install kagglehub\n"
      ]
    },
    {
      "cell_type": "code",
      "source": [
        "import tensorflow as tf\n",
        "from tensorflow.keras import layers, models\n",
        "from pathlib import Path\n",
        "from google.colab import drive\n",
        "import matplotlib.pyplot as plt\n",
        "from sklearn.metrics import confusion_matrix, ConfusionMatrixDisplay\n",
        "import numpy as np\n",
        "import pandas as pd\n",
        "import seaborn as sns\n",
        "import shutil\n",
        "import os\n",
        "from pathlib import Path\n",
        "from sklearn.utils import class_weight\n",
        "from sklearn.model_selection import train_test_split"
      ],
      "metadata": {
        "id": "E3VZ1eHs0Vlr"
      },
      "id": "E3VZ1eHs0Vlr",
      "execution_count": 2,
      "outputs": []
    },
    {
      "cell_type": "code",
      "source": [
        "\n",
        "drive.mount('/content/drive')\n",
        "train_dir = Path(\"/content/drive/MyDrive/CBAM_project/augmented_data/Train\")\n",
        "# test_dir = Path(\"/content/drive/MyDrive/CBAM_project/augmented_data/Test\")\n"
      ],
      "metadata": {
        "colab": {
          "base_uri": "https://localhost:8080/"
        },
        "id": "mKK9WLmWsJzf",
        "outputId": "d9b22b10-9858-43d2-e96d-ff524f2e21ab"
      },
      "id": "mKK9WLmWsJzf",
      "execution_count": 3,
      "outputs": [
        {
          "output_type": "stream",
          "name": "stdout",
          "text": [
            "Mounted at /content/drive\n"
          ]
        }
      ]
    },
    {
      "cell_type": "code",
      "source": [
        "dst_dir = \"/content/dataset/Train\"\n",
        "\n",
        "\n",
        "if not os.path.exists(dst_dir):\n",
        "    shutil.copytree(train_dir, dst_dir)\n",
        "    print(\"✅ Données de train copiées.\")\n",
        "else:\n",
        "  print(\"✅ Le dossier Train existe déjà dans /content/dataset.\")"
      ],
      "metadata": {
        "id": "kSgKKBrc45IT"
      },
      "id": "kSgKKBrc45IT",
      "execution_count": null,
      "outputs": []
    },
    {
      "cell_type": "code",
      "source": [
        "# dst_train = \"/content/dataset/Train\"\n",
        "# dst_test = \"/content/dataset/Test\"\n",
        "\n",
        "# if not os.path.exists(dst_test):\n",
        "#     shutil.copytree(test_dir, dst_test)\n",
        "#     print(\"✅ Données de test copiées.\")"
      ],
      "metadata": {
        "id": "dUEPQ6EbwRIO"
      },
      "id": "dUEPQ6EbwRIO",
      "execution_count": null,
      "outputs": []
    },
    {
      "cell_type": "markdown",
      "source": [
        "**Définition du module CBAM**"
      ],
      "metadata": {
        "id": "xVxHEu6KzCUF"
      },
      "id": "xVxHEu6KzCUF"
    },
    {
      "cell_type": "code",
      "execution_count": null,
      "id": "4d37e6a1",
      "metadata": {
        "id": "4d37e6a1"
      },
      "outputs": [],
      "source": [
        "class AttentionBlock(tf.keras.layers.Layer):\n",
        "    def __init__(self, filters, ratio=8, name=\"AttentionBlock\", **kwargs):\n",
        "        super().__init__(name=name, **kwargs)\n",
        "        self.filters = filters\n",
        "        self.ratio = ratio\n",
        "\n",
        "    def build(self, input_shape):\n",
        "        initializer = tf.keras.initializers.HeNormal()\n",
        "\n",
        "        # Channel-wise attention\n",
        "        self.avg_pool = layers.GlobalAveragePooling2D()\n",
        "        self.max_pool = layers.GlobalMaxPooling2D()\n",
        "        self.mlp = tf.keras.Sequential([\n",
        "            layers.Dense(self.filters // (self.ratio*2), activation='relu', use_bias=False, kernel_initializer=initializer),\n",
        "            layers.Dropout(0.2),\n",
        "            layers.Dense(self.filters // self.ratio, activation='relu', use_bias=False, kernel_initializer=initializer),\n",
        "            layers.Dropout(0.2),\n",
        "            layers.Dense(self.filters, activation='sigmoid', use_bias=False, kernel_initializer=initializer)\n",
        "        ])\n",
        "\n",
        "        # Spatial attention block\n",
        "        self.spatial = tf.keras.Sequential([\n",
        "            layers.Conv2D(1, kernel_size=5, strides=1, padding='same', activation='sigmoid')\n",
        "\n",
        "        ])\n",
        "\n",
        "\n",
        "\n",
        "    def call(self, inputs,training=False):\n",
        "        # Channel attention\n",
        "        avg_out = self.avg_pool(inputs)\n",
        "        max_out = self.max_pool(inputs)\n",
        "        avg_weight = self.mlp(avg_out)\n",
        "        max_weight = self.mlp(max_out)\n",
        "        scale = tf.nn.sigmoid(avg_weight + max_weight)\n",
        "        scale = tf.reshape(scale, [-1, 1, 1, self.filters])\n",
        "        x = inputs * scale\n",
        "\n",
        "\n",
        "        # Spatial attention\n",
        "        avg_map = tf.reduce_mean(x, axis=-1, keepdims=True)\n",
        "        max_map = tf.reduce_max(x, axis=-1, keepdims=True)\n",
        "        combined = tf.concat([avg_map, max_map], axis=-1)\n",
        "        attn_map = self.spatial(combined)\n",
        "\n",
        "        return x * attn_map\n"
      ]
    },
    {
      "cell_type": "markdown",
      "source": [
        "Construction du **modèle**"
      ],
      "metadata": {
        "id": "y51dsi1Iy-hI"
      },
      "id": "y51dsi1Iy-hI"
    },
    {
      "cell_type": "code",
      "execution_count": null,
      "id": "9a547a34",
      "metadata": {
        "id": "9a547a34"
      },
      "outputs": [],
      "source": [
        "def build_cbam_model(input_shape=(128, 128, 3), num_classes=9):\n",
        "    inputs = tf.keras.Input(shape=input_shape)\n",
        "    x = layers.Rescaling(1./255)(inputs)\n",
        "\n",
        "    for i, filters in enumerate([64, 128, 256, 512]):\n",
        "        x = layers.Conv2D(filters, 3, padding=\"same\", use_bias=False, name=f\"conv_{i}\")(x)\n",
        "        x = layers.BatchNormalization(name=f\"bn_{i}\")(x)\n",
        "        x = layers.LeakyReLU(name=f\"leakyrelu_{i}\")(x)\n",
        "        x = AttentionBlock(filters, name=f\"cbam_block_{i}\")(x)\n",
        "        x = layers.MaxPooling2D(name=f\"maxpool_{i}\")(x)\n",
        "\n",
        "    x = layers.GlobalAveragePooling2D(name=\"gap\")(x)\n",
        "    x = layers.Dropout(0.4)(x)\n",
        "    x = layers.Dense(512)(x)\n",
        "    x = layers.LeakyReLU()(x)\n",
        "    x = layers.Dropout(0.3)(x)\n",
        "    outputs = layers.Dense(num_classes, activation='softmax', name=\"output\")(x)\n",
        "\n",
        "    return tf.keras.Model(inputs, outputs, name=\"CBAM_Model\")\n"
      ]
    },
    {
      "cell_type": "markdown",
      "source": [
        "Chargement du dataset depuis les images augmentées"
      ],
      "metadata": {
        "id": "IHqtepETy6SY"
      },
      "id": "IHqtepETy6SY"
    },
    {
      "cell_type": "code",
      "execution_count": null,
      "id": "efac1de6",
      "metadata": {
        "id": "efac1de6"
      },
      "outputs": [],
      "source": [
        "# img_height = 128\n",
        "# img_width = 128\n",
        "# batch_size = 32\n",
        "# num_classes = 9\n",
        "\n",
        "\n",
        "\n",
        "# train_ds = tf.keras.preprocessing.image_dataset_from_directory(\n",
        "#     train_dir,\n",
        "#     seed=123,\n",
        "#     image_size=(img_height, img_width),\n",
        "#     batch_size=batch_size\n",
        "# )\n",
        "\n",
        "# val_ds = tf.keras.preprocessing.image_dataset_from_directory(\n",
        "#     test_dir,\n",
        "#     seed=123,\n",
        "#     image_size=(img_height, img_width),\n",
        "#     batch_size=batch_size\n",
        "# )\n"
      ]
    },
    {
      "cell_type": "code",
      "source": [
        "# split avec tensorflow"
      ],
      "metadata": {
        "id": "5b5NAWoCH0EQ"
      },
      "id": "5b5NAWoCH0EQ",
      "execution_count": null,
      "outputs": []
    },
    {
      "cell_type": "code",
      "source": [
        "train_ds = tf.keras.utils.image_dataset_from_directory(\n",
        "        train_dir,\n",
        "        validation_split=0.2,\n",
        "        subset=\"training\",\n",
        "        seed=123,\n",
        "        image_size=(img_height, img_width),\n",
        "        batch_size=batch_size,\n",
        "       shuffle=True\n",
        "       )\n",
        "       class_names = train_ds.class_names\n",
        "\n",
        "       val_ds = tf.keras.utils.image_dataset_from_directory(\n",
        "        train_dir,\n",
        "        seed=123,\n",
        "        validation_split=0.2,\n",
        "        subset=\"validation\",\n",
        "        image_size=(img_height, img_width),\n",
        "        batch_size=batch_size,\n",
        "        huffle=False\n",
        " )\n",
        "\n",
        "AUTOTUNE = tf.data.AUTOTUNE\n",
        "train_ds = train_ds.shuffle(1000).prefetch(buffer_size=AUTOTUNE)\n",
        "val_ds = val_ds.prefetch(buffer_size=AUTOTUNE)\n"
      ],
      "metadata": {
        "id": "UnU_9vCEHyKh"
      },
      "id": "UnU_9vCEHyKh",
      "execution_count": null,
      "outputs": []
    },
    {
      "cell_type": "code",
      "source": [
        "print(train_ds.class_names)"
      ],
      "metadata": {
        "id": "voF7kQ_6nbTN"
      },
      "id": "voF7kQ_6nbTN",
      "execution_count": null,
      "outputs": []
    },
    {
      "cell_type": "code",
      "source": [
        "train_labels = []\n",
        "for images, labels in train_ds:\n",
        "    train_labels.extend(labels.numpy())\n",
        "\n",
        "class_weights = class_weight.compute_class_weight(\n",
        "    class_weight='balanced',\n",
        "    classes=np.unique(train_labels),\n",
        "    y=train_labels\n",
        ")\n",
        "\n",
        "# Dictionnaire format {classe: poids}\n",
        "class_weights = dict(enumerate(class_weights))"
      ],
      "metadata": {
        "id": "3fOu5eYD3OqM"
      },
      "id": "3fOu5eYD3OqM",
      "execution_count": null,
      "outputs": []
    },
    {
      "cell_type": "markdown",
      "source": [
        "compilation"
      ],
      "metadata": {
        "id": "3rsAWvcBzOC7"
      },
      "id": "3rsAWvcBzOC7"
    },
    {
      "cell_type": "code",
      "execution_count": null,
      "id": "fde0e364",
      "metadata": {
        "id": "fde0e364"
      },
      "outputs": [],
      "source": [
        "model = build_cbam_model(input_shape=(img_height, img_width, 3), num_classes=num_classes)\n",
        "optimizer = tf.keras.optimizers.Adam(learning_rate=1e-4)\n",
        "# optimizer = tf.keras.optimizers.Adam(learning_rate=1e-4)\n",
        "model.compile(optimizer=optimizer, loss='sparse_categorical_crossentropy', metrics=['accuracy'])\n",
        "model.summary()\n"
      ]
    },
    {
      "cell_type": "markdown",
      "source": [
        "callbacks"
      ],
      "metadata": {
        "id": "jdJqppnKz6rd"
      },
      "id": "jdJqppnKz6rd"
    },
    {
      "cell_type": "code",
      "execution_count": null,
      "id": "176ecd02",
      "metadata": {
        "id": "176ecd02"
      },
      "outputs": [],
      "source": [
        "checkpoint_path = \"/content/drive/MyDrive/CBAM_project/models/model8.keras\"\n",
        "callbacks = [\n",
        "    tf.keras.callbacks.EarlyStopping(monitor='val_loss', patience=15, restore_best_weights=True),\n",
        "    # tf.keras.callbacks.EarlyStopping(monitor='val_accuracy', patience=7, restore_best_weights=True),\n",
        "    tf.keras.callbacks.ModelCheckpoint(checkpoint_path, save_best_only=True),\n",
        "    tf.keras.callbacks.ReduceLROnPlateau(monitor='val_loss', factor=0.5, patience=5)\n",
        "]\n"
      ]
    },
    {
      "cell_type": "code",
      "source": [
        "history = model.fit(\n",
        "    train_ds,\n",
        "    validation_data=val_ds,\n",
        "    epochs=50,\n",
        "    callbacks=callbacks,\n",
        "    class_weight=class_weights\n",
        ")\n"
      ],
      "metadata": {
        "id": "IYs19loP0D9q"
      },
      "id": "IYs19loP0D9q",
      "execution_count": null,
      "outputs": []
    },
    {
      "cell_type": "code",
      "source": [
        "import os\n",
        "\n",
        "model.save(\"/content/drive/MyDrive/CBAM_project/models/model_test_full.keras\")\n",
        "size_mb = os.path.getsize(\"/content/drive/MyDrive/CBAM_project/models/model_test_full.keras\") / (1024*1024)\n",
        "print(f\"Modèle sauvegardé, taille : {size_mb:.1f} Mo\")\n"
      ],
      "metadata": {
        "id": "RJUvU1XwqiJD"
      },
      "id": "RJUvU1XwqiJD",
      "execution_count": null,
      "outputs": []
    },
    {
      "cell_type": "markdown",
      "source": [
        "Évolution de la précision et de la perte par epoch"
      ],
      "metadata": {
        "id": "k6RtXaVCaFvN"
      },
      "id": "k6RtXaVCaFvN"
    },
    {
      "cell_type": "code",
      "execution_count": null,
      "id": "30bcff44",
      "metadata": {
        "id": "30bcff44"
      },
      "outputs": [],
      "source": [
        "acc = history.history['accuracy']\n",
        "val_acc = history.history['val_accuracy']\n",
        "loss = history.history['loss']\n",
        "val_loss = history.history['val_loss']\n",
        "epochs = range(1, len(acc) + 1)\n",
        "\n",
        "plt.figure(figsize=(14, 5))\n",
        "\n",
        "plt.subplot(1, 2, 1)\n",
        "plt.plot(epochs, acc, label='Train accuracy')\n",
        "plt.plot(epochs, val_acc, label='Val accuracy')\n",
        "plt.title('Accuracy over epochs')\n",
        "plt.xlabel('Epoch')\n",
        "plt.ylabel('Accuracy')\n",
        "plt.legend()\n",
        "\n",
        "plt.subplot(1, 2, 2)\n",
        "plt.plot(epochs, loss, label='Train loss')\n",
        "plt.plot(epochs, val_loss, label='Val loss')\n",
        "plt.title('Loss over epochs')\n",
        "plt.xlabel('Epoch')\n",
        "plt.ylabel('Loss')\n",
        "plt.legend()\n",
        "\n",
        "plt.tight_layout()\n",
        "plt.show()\n"
      ]
    },
    {
      "cell_type": "code",
      "source": [
        "from pathlib import Path\n",
        "\n",
        "train_dir = Path(\"/content/drive/MyDrive/CBAM_project/augmented_data/Train\")\n",
        "for c in sorted(train_dir.iterdir()):\n",
        "    if c.is_dir():\n",
        "            count = len(list(c.glob(\"*.jpg\")))\n",
        "            print(f\"{c.name}: {count} images\")\n"
      ],
      "metadata": {
        "id": "17PNfXxiJIUi"
      },
      "id": "17PNfXxiJIUi",
      "execution_count": null,
      "outputs": []
    },
    {
      "cell_type": "code",
      "source": [
        "unique_true = np.unique(y_true)\n",
        "print(\"Classes présentes dans y_true :\", unique_true)\n",
        "print(\"Classes attendues :\", list(range(len(class_names))))\n",
        "print(\"Noms des classes :\", [class_names[i] for i in unique_true])\n"
      ],
      "metadata": {
        "id": "axFisEc5IyAr"
      },
      "id": "axFisEc5IyAr",
      "execution_count": null,
      "outputs": []
    },
    {
      "cell_type": "markdown",
      "source": [
        "matrice de confusion"
      ],
      "metadata": {
        "id": "_Of59J-IaP_N"
      },
      "id": "_Of59J-IaP_N"
    },
    {
      "cell_type": "code",
      "source": [
        "\n",
        "\n",
        "y_true = []\n",
        "y_pred = []\n",
        "\n",
        "for images, labels in val_ds:\n",
        "  preds = model.predict(images, verbose=0)\n",
        "  y_true.extend(labels.numpy())\n",
        "  y_pred.extend(np.argmax(preds, axis=1))\n",
        "\n",
        "            # Matrice de confusion\n",
        "cm = confusion_matrix(y_true, y_pred)\n",
        "disp = ConfusionMatrixDisplay(confusion_matrix=cm, display_labels=class_names)\n",
        "fig, ax = plt.subplots(figsize=(10, 8))\n",
        "disp.plot(ax=ax, xticks_rotation=90, cmap=\"Blues\")\n",
        "plt.title(\"Matrice de confusion\")\n",
        "plt.show()\n",
        "\n",
        "\n"
      ],
      "metadata": {
        "id": "_Jz0EgLdaLr2"
      },
      "id": "_Jz0EgLdaLr2",
      "execution_count": null,
      "outputs": []
    },
    {
      "cell_type": "markdown",
      "source": [
        " Distribution des prédictions (par classe)"
      ],
      "metadata": {
        "id": "XxxnBH9CaUoN"
      },
      "id": "XxxnBH9CaUoN"
    },
    {
      "cell_type": "code",
      "source": [
        "\n",
        "\n",
        "# Distribution des prédictions\n",
        "df_pred = pd.DataFrame({'true': y_true, 'pred': y_pred})\n",
        "df_pred['true_class'] = df_pred['true'].map(lambda i: class_names[i])\n",
        "df_pred['pred_class'] = df_pred['pred'].map(lambda i: class_names[i])\n",
        "\n",
        "plt.figure(figsize=(12, 5))\n",
        "sns.countplot(x='pred_class', data=df_pred, order=class_names)\n",
        "plt.title(\"Distribution des prédictions par classe\")\n",
        "plt.xticks(rotation=45)\n",
        "plt.show()\n"
      ],
      "metadata": {
        "id": "wofpl-HfaKeR"
      },
      "id": "wofpl-HfaKeR",
      "execution_count": null,
      "outputs": []
    },
    {
      "cell_type": "markdown",
      "source": [
        "Graphe des erreurs par classe"
      ],
      "metadata": {
        "id": "PDzTeqewaitC"
      },
      "id": "PDzTeqewaitC"
    },
    {
      "cell_type": "code",
      "source": [
        "# Pourcentage d'erreurs par classe\n",
        "error_by_class = (df_pred['true'] != df_pred['pred']).groupby(df_pred['true_class']).mean()\n",
        "\n",
        "error_by_class.plot(kind='bar', figsize=(10, 5), color='salmon')\n",
        "plt.title(\"Taux d'erreur par classe\")\n",
        "plt.ylabel(\"Taux d'erreur\")\n",
        "plt.xticks(rotation=45)\n",
        "plt.ylim(0, 1)\n",
        "plt.show()\n"
      ],
      "metadata": {
        "id": "R3eXGAMNakOv"
      },
      "id": "R3eXGAMNakOv",
      "execution_count": null,
      "outputs": []
    },
    {
      "cell_type": "code",
      "source": [],
      "metadata": {
        "id": "9ElcH4vftP21"
      },
      "id": "9ElcH4vftP21",
      "execution_count": null,
      "outputs": []
    }
  ],
  "metadata": {
    "kernelspec": {
      "display_name": "Python 3",
      "name": "python3"
    },
    "language_info": {
      "codemirror_mode": {
        "name": "ipython",
        "version": 3
      },
      "file_extension": ".py",
      "mimetype": "text/x-python",
      "name": "python",
      "nbconvert_exporter": "python",
      "pygments_lexer": "ipython3",
      "version": "3.10.0"
    },
    "colab": {
      "provenance": [],
      "include_colab_link": true
    }
  },
  "nbformat": 4,
  "nbformat_minor": 5
}