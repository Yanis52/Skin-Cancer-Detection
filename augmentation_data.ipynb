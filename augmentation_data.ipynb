{
 "cells": [
  {
   "cell_type": "code",
   "execution_count": null,
   "id": "068a8020",
   "metadata": {},
   "outputs": [],
   "source": []
  },
  {
   "cell_type": "code",
   "execution_count": null,
   "id": "a51d72ca",
   "metadata": {},
   "outputs": [],
   "source": [
    "!pip install Augmentor"
   ]
  },
  {
   "cell_type": "code",
   "execution_count": null,
   "id": "5e0f6c3c",
   "metadata": {},
   "outputs": [],
   "source": [
    "import Augmentor\n",
    "from pathlib import Path\n",
    "import os"
   ]
  },
  {
   "cell_type": "code",
   "execution_count": null,
   "id": "d5dfb95e",
   "metadata": {},
   "outputs": [],
   "source": [
    "# Dataset path\n",
    "base_path = Path(\"/root/.cache/kagglehub/datasets/nodoubttome/skin-cancer9-classesisic/versions/1/Skin cancer ISIC The International Skin Imaging Collaboration\")"
   ]
  },
  {
   "cell_type": "code",
   "execution_count": null,
   "id": "4b7ec4ea",
   "metadata": {},
   "outputs": [],
   "source": [
    "train_path = base_path / \"Train\"\n",
    "output_base = Path(\"/content/augmented_data/Train\")"
   ]
  },
  {
   "cell_type": "code",
   "execution_count": null,
   "id": "e82c76be",
   "metadata": {},
   "outputs": [],
   "source": [
    "class_names = [\n",
    "    'actinic keratosis', 'basal cell carcinoma', 'dermatofibroma',\n",
    "    'melanoma', 'nevus', 'pigmented benign keratosis',\n",
    "    'seborrheic keratosis', 'squamous cell carcinoma', 'vascular lesion'\n",
    "]"
   ]
  },
  {
   "cell_type": "code",
   "execution_count": null,
   "id": "623ac353",
   "metadata": {},
   "outputs": [],
   "source": [
    "for class_name in class_names:\n",
    "    input_path = str(train_path / class_name)\n",
    "    output_path = str(output_base / class_name)"
   ]
  },
  {
   "cell_type": "code",
   "execution_count": null,
   "id": "77b14d73",
   "metadata": {},
   "outputs": [],
   "source": [
    "p = Augmentor.Pipeline(source_directory=input_path, output_directory=output_path)\n",
    "    p.rotate(probability=0.5, max_left_rotation=10, max_right_rotation=10)\n",
    "    p.flip_left_right(probability=0.5)\n",
    "    p.random_contrast(probability=0.3, min_factor=0.7, max_factor=1.3)\n",
    "    p.zoom_random(probability=0.5, percentage_area=0.8)\n",
    "    p.random_brightness(probability=0.3, min_factor=0.7, max_factor=1.3)\n",
    "    p.sample(1000)"
   ]
  },
  {
   "cell_type": "code",
   "execution_count": null,
   "id": "f465f0f5",
   "metadata": {},
   "outputs": [],
   "source": [
    "from pathlib import Path\n",
    "augmented_dir = Path(\"/content/augmented_data/Train\")\n",
    "total_augmented = len(list(augmented_dir.glob(\"*/*.jpg\")))\n",
    "print(f\" Nombre total d'images générées : {total_augmented}\")"
   ]
  }
 ],
 "metadata": {
  "language_info": {
   "name": "python"
  }
 },
 "nbformat": 4,
 "nbformat_minor": 5
}
