{
  "cells": [
    {
      "cell_type": "markdown",
      "metadata": {
        "id": "view-in-github",
        "colab_type": "text"
      },
      "source": [
        "<a href=\"https://colab.research.google.com/github/Yanis52/Skin-Cancer-Detection/blob/main/augmentation_data.ipynb\" target=\"_parent\"><img src=\"https://colab.research.google.com/assets/colab-badge.svg\" alt=\"Open In Colab\"/></a>"
      ]
    },
    {
      "cell_type": "code",
      "execution_count": 1,
      "id": "a51d72ca",
      "metadata": {
        "colab": {
          "base_uri": "https://localhost:8080/"
        },
        "id": "a51d72ca",
        "outputId": "2b7ac9d2-835f-49d6-966f-7dad651c3401"
      },
      "outputs": [
        {
          "output_type": "stream",
          "name": "stdout",
          "text": [
            "Collecting Augmentor\n",
            "  Downloading Augmentor-0.2.12-py2.py3-none-any.whl.metadata (1.3 kB)\n",
            "Requirement already satisfied: Pillow>=5.2.0 in /usr/local/lib/python3.11/dist-packages (from Augmentor) (11.3.0)\n",
            "Requirement already satisfied: tqdm>=4.9.0 in /usr/local/lib/python3.11/dist-packages (from Augmentor) (4.67.1)\n",
            "Requirement already satisfied: numpy>=1.11.0 in /usr/local/lib/python3.11/dist-packages (from Augmentor) (2.0.2)\n",
            "Downloading Augmentor-0.2.12-py2.py3-none-any.whl (38 kB)\n",
            "Installing collected packages: Augmentor\n",
            "Successfully installed Augmentor-0.2.12\n"
          ]
        }
      ],
      "source": [
        "!pip install Augmentor"
      ]
    },
    {
      "cell_type": "code",
      "execution_count": 2,
      "id": "5e0f6c3c",
      "metadata": {
        "id": "5e0f6c3c"
      },
      "outputs": [],
      "source": [
        "import Augmentor\n",
        "from pathlib import Path\n",
        "import os\n",
        "import kagglehub"
      ]
    },
    {
      "cell_type": "code",
      "source": [
        "from google.colab import drive\n",
        "drive.mount('/content/drive')"
      ],
      "metadata": {
        "colab": {
          "base_uri": "https://localhost:8080/"
        },
        "id": "hDZdOFydho5q",
        "outputId": "11aebbe3-9bd2-4663-df19-017f5580a378"
      },
      "id": "hDZdOFydho5q",
      "execution_count": 3,
      "outputs": [
        {
          "output_type": "stream",
          "name": "stdout",
          "text": [
            "Mounted at /content/drive\n"
          ]
        }
      ]
    },
    {
      "cell_type": "code",
      "source": [
        "path = kagglehub.dataset_download(\"nodoubttome/skin-cancer9-classesisic\")\n",
        "base_path = Path(path)\n",
        "data_dir = base_path / \"Skin cancer ISIC The International Skin Imaging Collaboration\" / \"Train\"\n",
        "data_test_dir = base_path / \"Skin cancer ISIC The International Skin Imaging Collaboration\" / \"Test\"\n"
      ],
      "metadata": {
        "id": "O3AjK5WqgD55",
        "outputId": "a4956ab4-e619-4042-ff3f-2232358d49e4",
        "colab": {
          "base_uri": "https://localhost:8080/"
        }
      },
      "id": "O3AjK5WqgD55",
      "execution_count": 4,
      "outputs": [
        {
          "output_type": "stream",
          "name": "stdout",
          "text": [
            "Downloading from https://www.kaggle.com/api/v1/datasets/download/nodoubttome/skin-cancer9-classesisic?dataset_version_number=1...\n"
          ]
        },
        {
          "output_type": "stream",
          "name": "stderr",
          "text": [
            "100%|██████████| 786M/786M [00:06<00:00, 131MB/s] "
          ]
        },
        {
          "output_type": "stream",
          "name": "stdout",
          "text": [
            "Extracting files...\n"
          ]
        },
        {
          "output_type": "stream",
          "name": "stderr",
          "text": [
            "\n"
          ]
        }
      ]
    },
    {
      "cell_type": "code",
      "source": [],
      "metadata": {
        "id": "SXpvuuCTVsoF"
      },
      "id": "SXpvuuCTVsoF",
      "execution_count": 4,
      "outputs": []
    },
    {
      "cell_type": "code",
      "source": [
        "output_base = Path(\"/content/drive/MyDrive/CBAM_project/augmented_data/Train\")\n",
        "output_test_base = Path(\"/content/drive/MyDrive/CBAM_project/augmented_data/Test\")"
      ],
      "metadata": {
        "id": "9546Z1fqhyYC"
      },
      "id": "9546Z1fqhyYC",
      "execution_count": 5,
      "outputs": []
    },
    {
      "cell_type": "code",
      "execution_count": 6,
      "id": "e82c76be",
      "metadata": {
        "id": "e82c76be"
      },
      "outputs": [],
      "source": [
        "class_names = [\n",
        "    'actinic keratosis', 'basal cell carcinoma', 'dermatofibroma',\n",
        "    'melanoma', 'nevus', 'pigmented benign keratosis',\n",
        "    'seborrheic keratosis', 'squamous cell carcinoma', 'vascular lesion'\n",
        "]"
      ]
    },
    {
      "cell_type": "code",
      "source": [
        "from pathlib import Path\n",
        "import matplotlib.pyplot as plt\n",
        "import os\n",
        "\n",
        "# Exemple : ton dossier d'images sur Colab ou dans /content/drive\n",
        "data_dir = base_path / \"Skin cancer ISIC The International Skin Imaging Collaboration\" / \"Train\"\n",
        "class_names = [\n",
        "    'actinic keratosis', 'basal cell carcinoma', 'dermatofibroma',\n",
        "        'melanoma', 'nevus', 'pigmented benign keratosis',\n",
        "            'seborrheic keratosis', 'squamous cell carcinoma', 'vascular lesion'\n",
        "            ]\n",
        "\n",
        "            # Comptage\n",
        "class_counts = []\n",
        "for class_name in class_names:\n",
        "    class_path = data_dir / class_name\n",
        "    count = len(list(class_path.glob(\"*.jpg\")))  # ou .png, .jpeg selon le cas\n",
        "    class_counts.append(count)\n",
        "\n",
        "  # Affichage\n",
        "plt.figure(figsize=(10, 6))\n",
        "plt.bar(class_names, class_counts, color='cornflowerblue')\n",
        "plt.xticks(rotation=45, ha='right')\n",
        "plt.title(\"Répartition initiale des images par classe\")\n",
        "plt.xlabel(\"Classes\")\n",
        "plt.ylabel(\"Nombre d'images\")\n",
        "plt.tight_layout()\n",
        "plt.show()\n"
      ],
      "metadata": {
        "id": "SE85JnSxWeZ_",
        "outputId": "76ab1b4c-e434-43a7-c8bf-6ccd9c91caae",
        "colab": {
          "base_uri": "https://localhost:8080/",
          "height": 607
        }
      },
      "id": "SE85JnSxWeZ_",
      "execution_count": 8,
      "outputs": [
        {
          "output_type": "display_data",
          "data": {
            "text/plain": [
              "<Figure size 1000x600 with 1 Axes>"
            ],
            "image/png": "[encoded data removed]"
          },
          "metadata": {}
        }
      ]
    },
    {
      "cell_type": "code",
      "execution_count": null,
      "id": "d5dfb95e",
      "metadata": {
        "colab": {
          "base_uri": "https://localhost:8080/"
        },
        "id": "d5dfb95e",
        "outputId": "0a8f471a-82c8-43fb-e545-7aac4e499a63"
      },
      "outputs": [
        {
          "output_type": "stream",
          "name": "stdout",
          "text": [
            "Initialised with 114 image(s) found.\n",
            "Output directory set to /content/drive/MyDrive/CBAM_project/augmented_data/Train/actinic keratosis."
          ]
        },
        {
          "output_type": "stream",
          "name": "stderr",
          "text": [
            "Processing <PIL.Image.Image image mode=RGB size=600x450 at 0x7DE1F2996DD0>: 100%|██████████| 6000/6000 [03:08<00:00, 31.84 Samples/s]\n"
          ]
        },
        {
          "output_type": "stream",
          "name": "stdout",
          "text": [
            "Initialised with 376 image(s) found.\n",
            "Output directory set to /content/drive/MyDrive/CBAM_project/augmented_data/Train/basal cell carcinoma."
          ]
        },
        {
          "output_type": "stream",
          "name": "stderr",
          "text": [
            "Processing <PIL.Image.Image image mode=RGB size=600x450 at 0x7DE1DFFAEF50>: 100%|██████████| 6000/6000 [03:02<00:00, 32.87 Samples/s]\n"
          ]
        },
        {
          "output_type": "stream",
          "name": "stdout",
          "text": [
            "Initialised with 95 image(s) found.\n",
            "Output directory set to /content/drive/MyDrive/CBAM_project/augmented_data/Train/dermatofibroma."
          ]
        },
        {
          "output_type": "stream",
          "name": "stderr",
          "text": [
            "Processing <PIL.JpegImagePlugin.JpegImageFile image mode=RGB size=600x450 at 0x7DE1F2C94F90>: 100%|██████████| 6000/6000 [03:08<00:00, 31.90 Samples/s]\n"
          ]
        },
        {
          "output_type": "stream",
          "name": "stdout",
          "text": [
            "Initialised with 438 image(s) found.\n",
            "Output directory set to /content/drive/MyDrive/CBAM_project/augmented_data/Train/melanoma."
          ]
        },
        {
          "output_type": "stream",
          "name": "stderr",
          "text": [
            "Processing <PIL.Image.Image image mode=RGB size=1024x768 at 0x7DE1F266E790>: 100%|██████████| 6000/6000 [15:09<00:00,  6.60 Samples/s]\n"
          ]
        },
        {
          "output_type": "stream",
          "name": "stdout",
          "text": [
            "Initialised with 357 image(s) found.\n",
            "Output directory set to /content/drive/MyDrive/CBAM_project/augmented_data/Train/nevus."
          ]
        },
        {
          "output_type": "stream",
          "name": "stderr",
          "text": [
            "Processing <PIL.Image.Image image mode=RGB size=3072x2304 at 0x7DE1F2781E10>: 100%|██████████| 6000/6000 [13:55<00:00,  7.18 Samples/s]\n"
          ]
        },
        {
          "output_type": "stream",
          "name": "stdout",
          "text": [
            "Initialised with 462 image(s) found.\n",
            "Output directory set to /content/drive/MyDrive/CBAM_project/augmented_data/Train/pigmented benign keratosis."
          ]
        },
        {
          "output_type": "stream",
          "name": "stderr",
          "text": [
            "Processing <PIL.Image.Image image mode=RGB size=600x450 at 0x7DE1F08DC810>: 100%|██████████| 6000/6000 [03:04<00:00, 32.60 Samples/s]\n"
          ]
        },
        {
          "output_type": "stream",
          "name": "stdout",
          "text": [
            "Initialised with 77 image(s) found.\n",
            "Output directory set to /content/drive/MyDrive/CBAM_project/augmented_data/Train/seborrheic keratosis."
          ]
        },
        {
          "output_type": "stream",
          "name": "stderr",
          "text": [
            "Processing <PIL.Image.Image image mode=RGB size=1024x768 at 0x7DE1F068B3D0>: 100%|██████████| 6000/6000 [07:10<00:00, 13.93 Samples/s]\n"
          ]
        },
        {
          "output_type": "stream",
          "name": "stdout",
          "text": [
            "Initialised with 181 image(s) found.\n",
            "Output directory set to /content/drive/MyDrive/CBAM_project/augmented_data/Train/squamous cell carcinoma."
          ]
        },
        {
          "output_type": "stream",
          "name": "stderr",
          "text": [
            "Processing <PIL.Image.Image image mode=RGB size=600x450 at 0x7DE20836C090>: 100%|██████████| 6000/6000 [03:04<00:00, 32.52 Samples/s]\n"
          ]
        },
        {
          "output_type": "stream",
          "name": "stdout",
          "text": [
            "Initialised with 139 image(s) found.\n",
            "Output directory set to /content/drive/MyDrive/CBAM_project/augmented_data/Train/vascular lesion."
          ]
        },
        {
          "output_type": "stream",
          "name": "stderr",
          "text": [
            "Processing <PIL.Image.Image image mode=RGB size=600x450 at 0x7DE20B5F8290>: 100%|██████████| 6000/6000 [03:09<00:00, 31.74 Samples/s]\n"
          ]
        }
      ],
      "source": [
        "\n",
        "for class_name in class_names:\n",
        "    input_path = data_dir / class_name\n",
        "    output_path = output_base / class_name\n",
        "    if not input_path.exists():\n",
        "        print(f\" Classe manquante : {input_path}\")\n",
        "        continue\n",
        "    output_path.mkdir(parents=True, exist_ok=True)\n",
        "    p = Augmentor.Pipeline(source_directory=str(input_path), output_directory=str(output_path))\n",
        "    p.rotate(probability=0.5, max_left_rotation=10, max_right_rotation=10)\n",
        "    p.flip_left_right(probability=0.5)\n",
        "    p.random_contrast(probability=0.3, min_factor=0.7, max_factor=1.3)\n",
        "    p.zoom_random(probability=0.5, percentage_area=0.8)\n",
        "    p.random_brightness(probability=0.3, min_factor=0.7, max_factor=1.3)\n",
        "    p.sample(6000)"
      ]
    },
    {
      "cell_type": "code",
      "source": [],
      "metadata": {
        "colab": {
          "base_uri": "https://localhost:8080/"
        },
        "id": "V3SFR_00iQss",
        "outputId": "db397108-cb5c-422d-fab9-83ec9b944b21"
      },
      "id": "V3SFR_00iQss",
      "execution_count": null,
      "outputs": [
        {
          "output_type": "stream",
          "name": "stdout",
          "text": [
            "Initialised with 139 image(s) found.\n",
            "Output directory set to /content/drive/MyDrive/CBAM_project/augmented_data/Train/vascular lesion."
          ]
        },
        {
          "output_type": "stream",
          "name": "stderr",
          "text": [
            "Processing <PIL.Image.Image image mode=RGB size=600x450 at 0x7DE1F2F10850>: 100%|██████████| 1000/1000 [00:30<00:00, 32.53 Samples/s]\n"
          ]
        }
      ]
    },
    {
      "cell_type": "code",
      "source": [
        "output_path.mkdir(parents=True, exist_ok=True)"
      ],
      "metadata": {
        "id": "BzYMxNqJiUUR"
      },
      "id": "BzYMxNqJiUUR",
      "execution_count": null,
      "outputs": []
    },
    {
      "cell_type": "code",
      "execution_count": null,
      "id": "623ac353",
      "metadata": {
        "colab": {
          "base_uri": "https://localhost:8080/"
        },
        "id": "623ac353",
        "outputId": "13752c29-02db-459c-c863-f72d6acb763c"
      },
      "outputs": [
        {
          "output_type": "stream",
          "name": "stdout",
          "text": [
            " Nombre total d'images générées : 54000\n"
          ]
        }
      ],
      "source": [
        "total_augmented = len(list(output_base.glob(\"*/*.jpg\")))\n",
        "print(f\" Nombre total d'images générées : {total_augmented}\")"
      ]
    },
    {
      "cell_type": "markdown",
      "source": [
        "DATA TEST"
      ],
      "metadata": {
        "id": "YCenDUou4j6L"
      },
      "id": "YCenDUou4j6L"
    },
    {
      "cell_type": "code",
      "execution_count": null,
      "id": "f465f0f5",
      "metadata": {
        "colab": {
          "base_uri": "https://localhost:8080/"
        },
        "id": "f465f0f5",
        "outputId": "cd9e17d5-02d3-4d03-faab-95ec8229d69c"
      },
      "outputs": [
        {
          "output_type": "stream",
          "name": "stdout",
          "text": [
            "Initialised with 16 image(s) found.\n",
            "Output directory set to /content/drive/MyDrive/CBAM_project/augmented_data/Test/actinic keratosis."
          ]
        },
        {
          "output_type": "stream",
          "name": "stderr",
          "text": [
            "Processing <PIL.Image.Image image mode=RGB size=600x450 at 0x7DE20AD64150>: 100%|██████████| 1200/1200 [00:42<00:00, 28.17 Samples/s]\n"
          ]
        },
        {
          "output_type": "stream",
          "name": "stdout",
          "text": [
            "Initialised with 16 image(s) found.\n",
            "Output directory set to /content/drive/MyDrive/CBAM_project/augmented_data/Test/basal cell carcinoma."
          ]
        },
        {
          "output_type": "stream",
          "name": "stderr",
          "text": [
            "Processing <PIL.Image.Image image mode=RGB size=600x450 at 0x7DE1F29D7BD0>: 100%|██████████| 1200/1200 [00:35<00:00, 34.05 Samples/s]\n"
          ]
        },
        {
          "output_type": "stream",
          "name": "stdout",
          "text": [
            "Initialised with 16 image(s) found.\n",
            "Output directory set to /content/drive/MyDrive/CBAM_project/augmented_data/Test/dermatofibroma."
          ]
        },
        {
          "output_type": "stream",
          "name": "stderr",
          "text": [
            "Processing <PIL.Image.Image image mode=RGB size=600x450 at 0x7DE1F08A8850>: 100%|██████████| 1200/1200 [16:25<00:00,  1.22 Samples/s]\n"
          ]
        },
        {
          "output_type": "stream",
          "name": "stdout",
          "text": [
            "Initialised with 16 image(s) found.\n",
            "Output directory set to /content/drive/MyDrive/CBAM_project/augmented_data/Test/melanoma."
          ]
        },
        {
          "output_type": "stream",
          "name": "stderr",
          "text": [
            "Processing <PIL.Image.Image image mode=RGB size=1504x1129 at 0x7DE20820FD90>: 100%|██████████| 1200/1200 [02:39<00:00,  7.52 Samples/s]\n"
          ]
        },
        {
          "output_type": "stream",
          "name": "stdout",
          "text": [
            "Initialised with 16 image(s) found.\n",
            "Output directory set to /content/drive/MyDrive/CBAM_project/augmented_data/Test/nevus."
          ]
        },
        {
          "output_type": "stream",
          "name": "stderr",
          "text": [
            "Processing <PIL.Image.Image image mode=RGB size=1022x767 at 0x7DE1F29B0210>: 100%|██████████| 1200/1200 [01:35<00:00, 12.53 Samples/s]\n"
          ]
        },
        {
          "output_type": "stream",
          "name": "stdout",
          "text": [
            "Initialised with 16 image(s) found.\n",
            "Output directory set to /content/drive/MyDrive/CBAM_project/augmented_data/Test/pigmented benign keratosis."
          ]
        },
        {
          "output_type": "stream",
          "name": "stderr",
          "text": [
            "Processing <PIL.Image.Image image mode=RGB size=600x450 at 0x7DE1F2A1B9D0>: 100%|██████████| 1200/1200 [00:37<00:00, 31.67 Samples/s]\n"
          ]
        },
        {
          "output_type": "stream",
          "name": "stdout",
          "text": [
            "Initialised with 3 image(s) found.\n",
            "Output directory set to /content/drive/MyDrive/CBAM_project/augmented_data/Test/seborrheic keratosis."
          ]
        },
        {
          "output_type": "stream",
          "name": "stderr",
          "text": [
            "Processing <PIL.Image.Image image mode=RGB size=1024x768 at 0x7DE1F2F23ED0>: 100%|██████████| 1200/1200 [01:23<00:00, 14.30 Samples/s]\n"
          ]
        },
        {
          "output_type": "stream",
          "name": "stdout",
          "text": [
            "Initialised with 16 image(s) found.\n",
            "Output directory set to /content/drive/MyDrive/CBAM_project/augmented_data/Test/squamous cell carcinoma."
          ]
        },
        {
          "output_type": "stream",
          "name": "stderr",
          "text": [
            "Processing <PIL.Image.Image image mode=RGB size=600x450 at 0x7DE1F262FF50>: 100%|██████████| 1200/1200 [17:24<00:00,  1.15 Samples/s]\n"
          ]
        },
        {
          "output_type": "stream",
          "name": "stdout",
          "text": [
            "Initialised with 3 image(s) found.\n",
            "Output directory set to /content/drive/MyDrive/CBAM_project/augmented_data/Test/vascular lesion."
          ]
        },
        {
          "output_type": "stream",
          "name": "stderr",
          "text": [
            "Processing <PIL.Image.Image image mode=RGB size=600x450 at 0x7DE1DFF316D0>: 100%|██████████| 1200/1200 [00:35<00:00, 33.48 Samples/s]\n"
          ]
        }
      ],
      "source": [
        "for class_name in class_names:\n",
        "    input_path = data_test_dir / class_name\n",
        "    output_path = output_test_base / class_name\n",
        "    if not input_path.exists():\n",
        "        print(f\" Classe manquante : {input_path}\")\n",
        "        continue\n",
        "    output_path.mkdir(parents=True, exist_ok=True)\n",
        "    p = Augmentor.Pipeline(source_directory=str(input_path), output_directory=str(output_path))\n",
        "    p.rotate(probability=0.5, max_left_rotation=10, max_right_rotation=10)\n",
        "    p.flip_left_right(probability=0.5)\n",
        "    p.random_contrast(probability=0.3, min_factor=0.7, max_factor=1.3)\n",
        "    p.zoom_random(probability=0.5, percentage_area=0.8)\n",
        "    p.random_brightness(probability=0.3, min_factor=0.7, max_factor=1.3)\n",
        "    p.sample(1200)"
      ]
    }
  ],
  "metadata": {
    "language_info": {
      "name": "python"
    },
    "colab": {
      "provenance": [],
      "gpuType": "T4",
      "include_colab_link": true
    },
    "kernelspec": {
      "name": "python3",
      "display_name": "Python 3"
    },
    "accelerator": "GPU"
  },
  "nbformat": 4,
  "nbformat_minor": 5
}