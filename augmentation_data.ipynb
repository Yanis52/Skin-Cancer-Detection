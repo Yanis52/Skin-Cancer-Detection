{
  "cells": [
    {
      "cell_type": "code",
      "execution_count": 9,
      "id": "a51d72ca",
      "metadata": {
        "colab": {
          "base_uri": "https://localhost:8080/"
        },
        "id": "a51d72ca",
        "outputId": "667f09ae-a0f5-4f52-dfa7-6e8ee08fbfa9"
      },
      "outputs": [
        {
          "output_type": "stream",
          "name": "stdout",
          "text": [
            "Requirement already satisfied: Augmentor in /usr/local/lib/python3.11/dist-packages (0.2.12)\n",
            "Requirement already satisfied: Pillow>=5.2.0 in /usr/local/lib/python3.11/dist-packages (from Augmentor) (11.3.0)\n",
            "Requirement already satisfied: tqdm>=4.9.0 in /usr/local/lib/python3.11/dist-packages (from Augmentor) (4.67.1)\n",
            "Requirement already satisfied: numpy>=1.11.0 in /usr/local/lib/python3.11/dist-packages (from Augmentor) (2.0.2)\n"
          ]
        }
      ],
      "source": [
        "!pip install Augmentor"
      ]
    },
    {
      "cell_type": "code",
      "execution_count": 25,
      "id": "5e0f6c3c",
      "metadata": {
        "id": "5e0f6c3c"
      },
      "outputs": [],
      "source": [
        "import Augmentor\n",
        "from pathlib import Path\n",
        "import os\n",
        "import kagglehub"
      ]
    },
    {
      "cell_type": "code",
      "source": [
        "from google.colab import drive\n",
        "drive.mount('/content/drive')"
      ],
      "metadata": {
        "id": "hDZdOFydho5q"
      },
      "id": "hDZdOFydho5q",
      "execution_count": null,
      "outputs": []
    },
    {
      "cell_type": "code",
      "source": [
        "# Dataset original (KaggleHub)\n",
        "base_path = Path(\"/root/.cache/kagglehub/datasets/nodoubttome/skin-cancer9-classesisic/versions/1\")\n",
        "data_dir = base_path / \"Skin cancer ISIC The International Skin Imaging Collaboration\" / \"Train\""
      ],
      "metadata": {
        "colab": {
          "base_uri": "https://localhost:8080/"
        },
        "id": "O3AjK5WqgD55",
        "outputId": "f4135a15-e77b-4aed-bf5b-500011020b90"
      },
      "id": "O3AjK5WqgD55",
      "execution_count": 30,
      "outputs": [
        {
          "output_type": "stream",
          "name": "stdout",
          "text": [
            "/kaggle/input/skin-cancer9-classesisic\n"
          ]
        }
      ]
    },
    {
      "cell_type": "code",
      "source": [
        "output_base = Path(\"/content/drive/MyDrive/CBAM_project/augmented_data/Train\")"
      ],
      "metadata": {
        "id": "9546Z1fqhyYC"
      },
      "id": "9546Z1fqhyYC",
      "execution_count": null,
      "outputs": []
    },
    {
      "cell_type": "code",
      "execution_count": 27,
      "id": "e82c76be",
      "metadata": {
        "id": "e82c76be"
      },
      "outputs": [],
      "source": [
        "class_names = [\n",
        "    'actinic keratosis', 'basal cell carcinoma', 'dermatofibroma',\n",
        "    'melanoma', 'nevus', 'pigmented benign keratosis',\n",
        "    'seborrheic keratosis', 'squamous cell carcinoma', 'vascular lesion'\n",
        "]"
      ]
    },
    {
      "cell_type": "code",
      "execution_count": 28,
      "id": "d5dfb95e",
      "metadata": {
        "id": "d5dfb95e"
      },
      "outputs": [],
      "source": [
        "#paths\n",
        "base_path = Path(\"/root/.cache/kagglehub/datasets/nodoubttome/skin-cancer9-classesisic/versions/1\")\n",
        "train_path = base_path / \"Skin cancer ISIC The International Skin Imaging Collaboration\" / \"Train\"\n",
        "output_base = Path(\"/content/augmented_data/Train\")"
      ]
    },
    {
      "cell_type": "code",
      "execution_count": 29,
      "id": "623ac353",
      "metadata": {
        "colab": {
          "base_uri": "https://localhost:8080/"
        },
        "id": "623ac353",
        "outputId": "34924ce9-b706-4d81-b757-d81a8b49a61e"
      },
      "outputs": [
        {
          "output_type": "stream",
          "name": "stdout",
          "text": [
            "❌ Classe manquante : /root/.cache/kagglehub/datasets/nodoubttome/skin-cancer9-classesisic/versions/1/Skin cancer ISIC The International Skin Imaging Collaboration/Train/actinic keratosis\n",
            "❌ Classe manquante : /root/.cache/kagglehub/datasets/nodoubttome/skin-cancer9-classesisic/versions/1/Skin cancer ISIC The International Skin Imaging Collaboration/Train/basal cell carcinoma\n",
            "❌ Classe manquante : /root/.cache/kagglehub/datasets/nodoubttome/skin-cancer9-classesisic/versions/1/Skin cancer ISIC The International Skin Imaging Collaboration/Train/dermatofibroma\n",
            "❌ Classe manquante : /root/.cache/kagglehub/datasets/nodoubttome/skin-cancer9-classesisic/versions/1/Skin cancer ISIC The International Skin Imaging Collaboration/Train/melanoma\n",
            "❌ Classe manquante : /root/.cache/kagglehub/datasets/nodoubttome/skin-cancer9-classesisic/versions/1/Skin cancer ISIC The International Skin Imaging Collaboration/Train/nevus\n",
            "❌ Classe manquante : /root/.cache/kagglehub/datasets/nodoubttome/skin-cancer9-classesisic/versions/1/Skin cancer ISIC The International Skin Imaging Collaboration/Train/pigmented benign keratosis\n",
            "❌ Classe manquante : /root/.cache/kagglehub/datasets/nodoubttome/skin-cancer9-classesisic/versions/1/Skin cancer ISIC The International Skin Imaging Collaboration/Train/seborrheic keratosis\n",
            "❌ Classe manquante : /root/.cache/kagglehub/datasets/nodoubttome/skin-cancer9-classesisic/versions/1/Skin cancer ISIC The International Skin Imaging Collaboration/Train/squamous cell carcinoma\n",
            "❌ Classe manquante : /root/.cache/kagglehub/datasets/nodoubttome/skin-cancer9-classesisic/versions/1/Skin cancer ISIC The International Skin Imaging Collaboration/Train/vascular lesion\n"
          ]
        }
      ],
      "source": [
        "for class_name in class_names:\n",
        "    input_path = (train_path / class_name)\n",
        "    output_path = (output_base / class_name)\n",
        "    if not input_path.exists():\n",
        "        print(f\"❌ Classe manquante : {input_path}\")\n",
        "        continue\n",
        "    output_path.mkdir(parents=True, exist_ok=True)\n",
        "    # Create and process the Augmentor pipeline inside the loop\n",
        "    p = Augmentor.Pipeline(source_directory=str(input_path), output_directory=str(output_path))\n",
        "    p.rotate(probability=0.5, max_left_rotation=10, max_right_rotation=10)\n",
        "    p.flip_left_right(probability=0.5)\n",
        "    p.random_contrast(probability=0.3, min_factor=0.7, max_factor=1.3)\n",
        "    p.zoom_random(probability=0.5, percentage_area=0.8)\n",
        "    p.random_brightness(probability=0.3, min_factor=0.7, max_factor=1.3)\n",
        "    p.sample(1000)"
      ]
    },
    {
      "cell_type": "code",
      "execution_count": null,
      "id": "f465f0f5",
      "metadata": {
        "id": "f465f0f5"
      },
      "outputs": [],
      "source": [
        "from pathlib import Path\n",
        "augmented_dir = Path(\"/content/augmented_data/Train\")\n",
        "total_augmented = len(list(augmented_dir.glob(\"*/*.jpg\")))\n",
        "print(f\" Nombre total d'images générées : {total_augmented}\")"
      ]
    }
  ],
  "metadata": {
    "language_info": {
      "name": "python"
    },
    "colab": {
      "provenance": []
    },
    "kernelspec": {
      "name": "python3",
      "display_name": "Python 3"
    }
  },
  "nbformat": 4,
  "nbformat_minor": 5
}