{
  "cells": [
    {
      "cell_type": "code",
      "execution_count": 1,
      "id": "a51d72ca",
      "metadata": {
        "colab": {
          "base_uri": "https://localhost:8080/"
        },
        "id": "a51d72ca",
        "outputId": "4420b446-ab86-4028-f8c2-2f158764fe61"
      },
      "outputs": [
        {
          "output_type": "stream",
          "name": "stdout",
          "text": [
            "Collecting Augmentor\n",
            "  Downloading Augmentor-0.2.12-py2.py3-none-any.whl.metadata (1.3 kB)\n",
            "Requirement already satisfied: Pillow>=5.2.0 in /usr/local/lib/python3.11/dist-packages (from Augmentor) (11.3.0)\n",
            "Requirement already satisfied: tqdm>=4.9.0 in /usr/local/lib/python3.11/dist-packages (from Augmentor) (4.67.1)\n",
            "Requirement already satisfied: numpy>=1.11.0 in /usr/local/lib/python3.11/dist-packages (from Augmentor) (2.0.2)\n",
            "Downloading Augmentor-0.2.12-py2.py3-none-any.whl (38 kB)\n",
            "Installing collected packages: Augmentor\n",
            "Successfully installed Augmentor-0.2.12\n"
          ]
        }
      ],
      "source": [
        "!pip install Augmentor"
      ]
    },
    {
      "cell_type": "code",
      "execution_count": 2,
      "id": "5e0f6c3c",
      "metadata": {
        "id": "5e0f6c3c"
      },
      "outputs": [],
      "source": [
        "import Augmentor\n",
        "from pathlib import Path\n",
        "import os\n",
        "import kagglehub"
      ]
    },
    {
      "cell_type": "code",
      "source": [
        "from google.colab import drive\n",
        "drive.mount('/content/drive')"
      ],
      "metadata": {
        "colab": {
          "base_uri": "https://localhost:8080/"
        },
        "id": "hDZdOFydho5q",
        "outputId": "3117cb51-0c0a-476b-90ed-68997f48d7a8"
      },
      "id": "hDZdOFydho5q",
      "execution_count": 3,
      "outputs": [
        {
          "output_type": "stream",
          "name": "stdout",
          "text": [
            "Mounted at /content/drive\n"
          ]
        }
      ]
    },
    {
      "cell_type": "code",
      "source": [
        "path = kagglehub.dataset_download(\"nodoubttome/skin-cancer9-classesisic\")\n",
        "base_path = Path(path)\n",
        "data_dir = base_path / \"Skin cancer ISIC The International Skin Imaging Collaboration\" / \"Train\"\n"
      ],
      "metadata": {
        "colab": {
          "base_uri": "https://localhost:8080/"
        },
        "id": "O3AjK5WqgD55",
        "outputId": "3e12fd78-02c9-41f9-b516-e8c147edbf92"
      },
      "id": "O3AjK5WqgD55",
      "execution_count": 9,
      "outputs": [
        {
          "output_type": "stream",
          "name": "stdout",
          "text": [
            "Downloading from https://www.kaggle.com/api/v1/datasets/download/nodoubttome/skin-cancer9-classesisic?dataset_version_number=1...\n"
          ]
        },
        {
          "output_type": "stream",
          "name": "stderr",
          "text": [
            "100%|██████████| 786M/786M [00:36<00:00, 22.4MB/s]"
          ]
        },
        {
          "output_type": "stream",
          "name": "stdout",
          "text": [
            "Extracting files...\n"
          ]
        },
        {
          "output_type": "stream",
          "name": "stderr",
          "text": [
            "\n"
          ]
        }
      ]
    },
    {
      "cell_type": "code",
      "source": [
        "output_base = Path(\"/content/drive/MyDrive/CBAM_project/augmented_data/Train\")"
      ],
      "metadata": {
        "id": "9546Z1fqhyYC"
      },
      "id": "9546Z1fqhyYC",
      "execution_count": 10,
      "outputs": []
    },
    {
      "cell_type": "code",
      "execution_count": 11,
      "id": "e82c76be",
      "metadata": {
        "id": "e82c76be"
      },
      "outputs": [],
      "source": [
        "class_names = [\n",
        "    'actinic keratosis', 'basal cell carcinoma', 'dermatofibroma',\n",
        "    'melanoma', 'nevus', 'pigmented benign keratosis',\n",
        "    'seborrheic keratosis', 'squamous cell carcinoma', 'vascular lesion'\n",
        "]"
      ]
    },
    {
      "cell_type": "code",
      "execution_count": 12,
      "id": "d5dfb95e",
      "metadata": {
        "id": "d5dfb95e"
      },
      "outputs": [],
      "source": [
        "\n",
        "for class_name in class_names:\n",
        "    input_path = data_dir / class_name\n",
        "    output_path = output_base / class_name\n",
        "    if not input_path.exists():\n",
        "        print(f\" Classe manquante : {input_path}\")\n",
        "        continue\n",
        "    output_path.mkdir(parents=True, exist_ok=True)\n",
        "    p = Augmentor.Pipeline(source_directory=str(input_path), output_directory=str(output_path))\n",
        "    p.rotate(probability=0.5, max_left_rotation=10, max_right_rotation=10)\n",
        "    p.flip_left_right(probability=0.5)\n",
        "    p.random_contrast(probability=0.3, min_factor=0.7, max_factor=1.3)\n",
        "    p.zoom_random(probability=0.5, percentage_area=0.8)\n",
        "    p.random_brightness(probability=0.3, min_factor=0.7, max_factor=1.3)\n",
        "    p.sample(6000)"
      ]
    },
    {
      "cell_type": "code",
      "source": [],
      "metadata": {
        "id": "V3SFR_00iQss",
        "outputId": "db397108-cb5c-422d-fab9-83ec9b944b21",
        "colab": {
          "base_uri": "https://localhost:8080/"
        }
      },
      "id": "V3SFR_00iQss",
      "execution_count": 13,
      "outputs": [
        {
          "output_type": "stream",
          "name": "stdout",
          "text": [
            "Initialised with 139 image(s) found.\n",
            "Output directory set to /content/drive/MyDrive/CBAM_project/augmented_data/Train/vascular lesion."
          ]
        },
        {
          "output_type": "stream",
          "name": "stderr",
          "text": [
            "Processing <PIL.Image.Image image mode=RGB size=600x450 at 0x7DE1F2F10850>: 100%|██████████| 1000/1000 [00:30<00:00, 32.53 Samples/s]\n"
          ]
        }
      ]
    },
    {
      "cell_type": "code",
      "source": [
        "output_path.mkdir(parents=True, exist_ok=True)"
      ],
      "metadata": {
        "id": "BzYMxNqJiUUR"
      },
      "id": "BzYMxNqJiUUR",
      "execution_count": 14,
      "outputs": []
    },
    {
      "cell_type": "code",
      "execution_count": 15,
      "id": "623ac353",
      "metadata": {
        "colab": {
          "base_uri": "https://localhost:8080/"
        },
        "id": "623ac353",
        "outputId": "74dd55c7-122e-4f98-bacf-e396351d8a70"
      },
      "outputs": [
        {
          "output_type": "stream",
          "name": "stdout",
          "text": [
            " Nombre total d'images générées : 1000\n"
          ]
        }
      ],
      "source": [
        "total_augmented = len(list(output_base.glob(\"*/*.jpg\")))\n",
        "print(f\" Nombre total d'images générées : {total_augmented}\")"
      ]
    },
    {
      "cell_type": "code",
      "execution_count": null,
      "id": "f465f0f5",
      "metadata": {
        "id": "f465f0f5"
      },
      "outputs": [],
      "source": []
    }
  ],
  "metadata": {
    "language_info": {
      "name": "python"
    },
    "colab": {
      "provenance": [],
      "gpuType": "T4"
    },
    "kernelspec": {
      "name": "python3",
      "display_name": "Python 3"
    },
    "accelerator": "GPU"
  },
  "nbformat": 4,
  "nbformat_minor": 5
}